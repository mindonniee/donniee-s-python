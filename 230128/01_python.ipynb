{
 "cells": [
  {
   "cell_type": "code",
   "execution_count": 1,
   "metadata": {},
   "outputs": [
    {
     "name": "stdout",
     "output_type": "stream",
     "text": [
      "10\n",
      "<class 'int'>\n",
      "test\n",
      "<class 'str'>\n"
     ]
    }
   ],
   "source": [
    "# 변수 선언\n",
    "a = 10\n",
    "b = \"test\"\n",
    "\n",
    "## 변수 출력\n",
    "print(a)\n",
    "print(type(a))\n",
    "\n",
    "print(b)\n",
    "print(type(b))"
   ]
  },
  {
   "cell_type": "code",
   "execution_count": 2,
   "metadata": {},
   "outputs": [
    {
     "name": "stdout",
     "output_type": "stream",
     "text": [
      "test2\n"
     ]
    }
   ],
   "source": [
    "a = 'test2'\n",
    "print(a)"
   ]
  },
  {
   "cell_type": "code",
   "execution_count": 3,
   "metadata": {},
   "outputs": [
    {
     "name": "stdout",
     "output_type": "stream",
     "text": [
      "<class 'bool'>\n"
     ]
    }
   ],
   "source": [
    "## 불형 데이터\n",
    "# 참과 거짓의 형태\n",
    "a = True\n",
    "print(type(a))"
   ]
  },
  {
   "cell_type": "code",
   "execution_count": 4,
   "metadata": {},
   "outputs": [
    {
     "name": "stdout",
     "output_type": "stream",
     "text": [
      "True False True\n"
     ]
    }
   ],
   "source": [
    "b = (100 > 10)\n",
    "c = (100 < 10)\n",
    "d = (100 == 100)\n",
    "print(b, c, d)"
   ]
  },
  {
   "cell_type": "code",
   "execution_count": 5,
   "metadata": {},
   "outputs": [
    {
     "name": "stdout",
     "output_type": "stream",
     "text": [
      "10 4 21 2.3333333333333335 2 1 343\n"
     ]
    }
   ],
   "source": [
    "# 산술 연산자\n",
    "# 기본적인 사칙연산\n",
    "a = 7\n",
    "b = 3\n",
    "\n",
    "print(a+b, a-b, a*b, a/b, a//b, a%b, a**b)"
   ]
  },
  {
   "cell_type": "code",
   "execution_count": 6,
   "metadata": {},
   "outputs": [
    {
     "name": "stdout",
     "output_type": "stream",
     "text": [
      "13\n",
      "20\n"
     ]
    }
   ],
   "source": [
    "c = 2\n",
    "print(a+b*c)\n",
    "print((a+b)*c)"
   ]
  },
  {
   "cell_type": "code",
   "execution_count": 13,
   "metadata": {},
   "outputs": [
    {
     "name": "stdout",
     "output_type": "stream",
     "text": [
      "37\n"
     ]
    }
   ],
   "source": [
    "\n",
    "# 대입 연산자\n",
    "a += 5 # a=a+5\n",
    "print(a)"
   ]
  },
  {
   "attachments": {},
   "cell_type": "markdown",
   "metadata": {},
   "source": [
    "###조건문\n",
    "-if"
   ]
  },
  {
   "cell_type": "code",
   "execution_count": 14,
   "metadata": {},
   "outputs": [],
   "source": [
    "a = 11\n",
    "if a < 10:\n",
    "    print(\"a는 10 보다 작다\")"
   ]
  },
  {
   "cell_type": "code",
   "execution_count": 15,
   "metadata": {},
   "outputs": [
    {
     "name": "stdout",
     "output_type": "stream",
     "text": [
      "a는 10보다 크거나 같다\n"
     ]
    }
   ],
   "source": [
    "# if ~ else\n",
    "a = 20\n",
    "\n",
    "if a < 10:\n",
    "    print(\"a는 10보다 작다\")\n",
    "else:\n",
    "    print(\"a는 10보다 크거나 같다\")"
   ]
  },
  {
   "cell_type": "code",
   "execution_count": 4,
   "metadata": {},
   "outputs": [
    {
     "name": "stdout",
     "output_type": "stream",
     "text": [
      "88\n",
      "<class 'int'>\n",
      "B\n",
      "프로그램 종료\n"
     ]
    }
   ],
   "source": [
    "# if ~ elif ~ else문\n",
    "score = int(input(\"점수를 입력하세요 :\"))\n",
    "print(score)\n",
    "print(type(score))\n",
    "if score >= 90:\n",
    "    print(\"A\")\n",
    "elif score >= 80:\n",
    "    print(\"B\")\n",
    "elif score >= 70:\n",
    "    print(\"C\")\n",
    "else :\n",
    "    print(\"F\")\n",
    "\n",
    "print(\"프로그램 종료\")"
   ]
  },
  {
   "cell_type": "code",
   "execution_count": 1,
   "metadata": {},
   "outputs": [
    {
     "name": "stdout",
     "output_type": "stream",
     "text": [
      "0 번째 반복\n",
      "1 번째 반복\n",
      "2 번째 반복\n",
      "3 번째 반복\n",
      "4 번째 반복\n",
      "5 번째 반복\n",
      "6 번째 반복\n",
      "7 번째 반복\n",
      "8 번째 반복\n",
      "9 번째 반복\n"
     ]
    }
   ],
   "source": [
    "# 반복문\n",
    "# for문\n",
    "for i in range(0,10,1):\n",
    "    print(\"%d 번째 반복\" %i)"
   ]
  },
  {
   "cell_type": "code",
   "execution_count": 8,
   "metadata": {},
   "outputs": [
    {
     "name": "stdout",
     "output_type": "stream",
     "text": [
      "55\n"
     ]
    }
   ],
   "source": [
    "# 1부터 10까지의 합계\n",
    "# for문\n",
    "\n",
    "# 합계 변수 생성\n",
    "sum = 0\n",
    "\n",
    "for a in range(1,11,1):\n",
    "    sum += a\n",
    "    # sum = sum + a\n",
    "\n",
    "print(sum)"
   ]
  },
  {
   "cell_type": "code",
   "execution_count": null,
   "metadata": {},
   "outputs": [],
   "source": [
    "# 다중 for문\n",
    "# 구구단\n",
    "\n",
    "for i in range(2,10,1):\n",
    "    print(\"%d단\"%i)\n",
    "    for j in range(1,10,1):\n",
    "        print(\"%d x %d = %d\"%(i, j, i*j), end = ',')"
   ]
  },
  {
   "cell_type": "code",
   "execution_count": 16,
   "metadata": {},
   "outputs": [
    {
     "name": "stdout",
     "output_type": "stream",
     "text": [
      "2550\n",
      "2550\n"
     ]
    }
   ],
   "source": [
    "# for문\n",
    "# 1부터 100까지의 숫자중에 짝수의 합계\n",
    "# hint : 1부터 100까지 반복\n",
    "# if 조건식을 사용해서 짝수인 경우에만 +\n",
    "\n",
    "# 합계 변수 생성\n",
    "sum = 0\n",
    "\n",
    "# 반복문 생성\n",
    "\n",
    "for i in range(1,101,1):\n",
    "    if i % 2 == 0:\n",
    "        sum += i\n",
    "\n",
    "sum = 0\n",
    "for i in range(2,101,2):\n",
    "    sum += i\n",
    "print(sum)\n",
    "\n",
    "print(sum)"
   ]
  },
  {
   "cell_type": "code",
   "execution_count": 24,
   "metadata": {},
   "outputs": [
    {
     "name": "stdout",
     "output_type": "stream",
     "text": [
      "1 4\n",
      "2 3\n",
      "3 2\n",
      "4 1\n"
     ]
    }
   ],
   "source": [
    "# 다중 for문\n",
    "## 2개의 주사위를 굴려서 두 주사위의 합이 5가 되는 주사위의 값\n",
    "\n",
    "for a in range(1,7,1):\n",
    "    for b in range (1,7,1):\n",
    "        if a + b == 5:\n",
    "            print (a,b)"
   ]
  },
  {
   "cell_type": "code",
   "execution_count": null,
   "metadata": {},
   "outputs": [],
   "source": [
    "# while문\n",
    "\n",
    "# 초기값 지정\n",
    "i = 0\n",
    "\n",
    "# while문 시작\n",
    "while i < 10:\n",
    "    print(i)\n",
    "    i =+ 1"
   ]
  },
  {
   "cell_type": "code",
   "execution_count": 4,
   "metadata": {},
   "outputs": [
    {
     "name": "stdout",
     "output_type": "stream",
     "text": [
      "합계가 500 이상이 되는 범위의 숫자 32 합계는 528\n"
     ]
    }
   ],
   "source": [
    "# 1부터 100까지 합계를 구하는 중\n",
    "# 합계가 500이 넘어가는 숫자와 합계의 값\n",
    "\n",
    "sum = 0\n",
    "\n",
    "for i in range(1,101,1):\n",
    "    sum +=i\n",
    "    if sum >= 500:\n",
    "        break\n",
    "\n",
    "print('합계가 500 이상이 되는 범위의 숫자', i, '합계는', sum)"
   ]
  },
  {
   "cell_type": "code",
   "execution_count": 5,
   "metadata": {},
   "outputs": [
    {
     "name": "stdout",
     "output_type": "stream",
     "text": [
      "합계가 500 이상이 되는 범위의 숫자 32 합계는 528\n"
     ]
    }
   ],
   "source": [
    "# while문\n",
    "\n",
    "sum = 0 \n",
    "i = 1\n",
    "\n",
    "while i <= 100:\n",
    "    sum += i\n",
    "    if sum >= 500:\n",
    "        break\n",
    "    i += 1\n",
    "\n",
    "print('합계가 500 이상이 되는 범위의 숫자', i, '합계는', sum)"
   ]
  },
  {
   "cell_type": "code",
   "execution_count": 7,
   "metadata": {},
   "outputs": [
    {
     "name": "stdout",
     "output_type": "stream",
     "text": [
      "1 번째 반복\n",
      "2 번째 반복\n",
      "3 번째 반복\n",
      "4 번째 반복\n",
      "5 번째 반복\n",
      "6 번째 반복\n",
      "7 번째 반복\n",
      "8 번째 반복\n",
      "9 번째 반복\n"
     ]
    }
   ],
   "source": [
    "# continue문\n",
    "for i in range(1,10,1):\n",
    "    print(\"%d 번째 반복\"%i)\n",
    "    if i <=3:\n",
    "        continue"
   ]
  },
  {
   "cell_type": "code",
   "execution_count": 8,
   "metadata": {},
   "outputs": [
    {
     "name": "stdout",
     "output_type": "stream",
     "text": [
      "2550\n"
     ]
    }
   ],
   "source": [
    "# 1부터 100까지의 짝수의 합계\n",
    "sum = 0\n",
    "\n",
    "for i in range (1,101,1):\n",
    "    if i %2==1:\n",
    "        continue\n",
    "    sum += i\n",
    "\n",
    "print(sum)"
   ]
  },
  {
   "cell_type": "code",
   "execution_count": 9,
   "metadata": {},
   "outputs": [
    {
     "name": "stdout",
     "output_type": "stream",
     "text": [
      "(1, 'hello') (3, 3.14) (1, 'hello', 3, 3.14) (1, 'hello', 1, 'hello', 1, 'hello') hello\n"
     ]
    }
   ],
   "source": [
    "# 튜플\n",
    "a = (1, 'hello')\n",
    "b = (3, 3.14)\n",
    "c = a + b\n",
    "d = a * 3\n",
    "e = a[1]\n",
    "\n",
    "print(a,b,c,d,e)"
   ]
  },
  {
   "cell_type": "code",
   "execution_count": 10,
   "metadata": {},
   "outputs": [
    {
     "name": "stdout",
     "output_type": "stream",
     "text": [
      "1\n"
     ]
    }
   ],
   "source": [
    "# 숫자 1만 출력하고 싶으면?\n",
    "\n",
    "print(a[0])"
   ]
  },
  {
   "cell_type": "code",
   "execution_count": 11,
   "metadata": {},
   "outputs": [],
   "source": [
    "a = (10,20,30,40)"
   ]
  },
  {
   "cell_type": "code",
   "execution_count": 12,
   "metadata": {},
   "outputs": [
    {
     "name": "stdout",
     "output_type": "stream",
     "text": [
      "(20, 30)\n"
     ]
    }
   ],
   "source": [
    "print(a[1:3])"
   ]
  },
  {
   "cell_type": "code",
   "execution_count": 13,
   "metadata": {},
   "outputs": [
    {
     "name": "stdout",
     "output_type": "stream",
     "text": [
      "(30, 40)\n"
     ]
    }
   ],
   "source": [
    "print(a[2:])"
   ]
  },
  {
   "cell_type": "code",
   "execution_count": 14,
   "metadata": {},
   "outputs": [],
   "source": [
    "# list 형태의 데이터\n",
    "a = [20,10,50,5]\n",
    "b = [10,20,30,40]"
   ]
  },
  {
   "cell_type": "code",
   "execution_count": 15,
   "metadata": {},
   "outputs": [
    {
     "name": "stdout",
     "output_type": "stream",
     "text": [
      "[5, 10, 20, 50]\n"
     ]
    }
   ],
   "source": [
    "# sort() => 오름차순 정렬로 변경\n",
    "\n",
    "a.sort()\n",
    "print(a)"
   ]
  },
  {
   "cell_type": "code",
   "execution_count": 16,
   "metadata": {},
   "outputs": [
    {
     "name": "stdout",
     "output_type": "stream",
     "text": [
      "[40, 30, 20, 10]\n"
     ]
    }
   ],
   "source": [
    "# reverse()->역순으로 정렬 변경\n",
    "b.reverse()\n",
    "print(b)"
   ]
  },
  {
   "cell_type": "code",
   "execution_count": 17,
   "metadata": {},
   "outputs": [
    {
     "name": "stdout",
     "output_type": "stream",
     "text": [
      "[5, 10, 20, 50, 22]\n"
     ]
    }
   ],
   "source": [
    "# append() -> 리스트의 마지막에 항목을 추가\n",
    "a.append(22)\n",
    "print(a)"
   ]
  },
  {
   "cell_type": "code",
   "execution_count": 19,
   "metadata": {},
   "outputs": [
    {
     "name": "stdout",
     "output_type": "stream",
     "text": [
      "[]\n",
      "[10]\n"
     ]
    }
   ],
   "source": [
    "# list의 특징\n",
    "a = []\n",
    "print(a)\n",
    "a.append(10)\n",
    "print(a)"
   ]
  },
  {
   "cell_type": "code",
   "execution_count": 44,
   "metadata": {},
   "outputs": [
    {
     "name": "stdout",
     "output_type": "stream",
     "text": [
      "[3, 6, 9, 12, 15, 18, 21, 24, 27, 30, 33, 36, 39, 42, 45, 48, 51, 54, 57, 60, 63, 66, 69]\n"
     ]
    }
   ],
   "source": [
    "# 1부터 70까지 숫자들 중에 3의 배수를 리스트로 만들어서 출력\n",
    "\n",
    "l=[]\n",
    "\n",
    "for i in range(1,71,1):\n",
    "    if i %3==0:\n",
    "        l.append(i)\n",
    "\n",
    "print(l)\n",
    "    \n",
    "    "
   ]
  },
  {
   "cell_type": "code",
   "execution_count": 45,
   "metadata": {},
   "outputs": [
    {
     "name": "stdout",
     "output_type": "stream",
     "text": [
      "5\n",
      "7\n",
      "10\n"
     ]
    }
   ],
   "source": [
    "for i in [5,7,10]:\n",
    "    print(i)"
   ]
  },
  {
   "cell_type": "code",
   "execution_count": 50,
   "metadata": {},
   "outputs": [
    {
     "name": "stdout",
     "output_type": "stream",
     "text": [
      "828\n"
     ]
    }
   ],
   "source": [
    "sum = 0\n",
    "\n",
    "for i in l:\n",
    "    sum += i\n",
    "\n",
    "print(sum)"
   ]
  },
  {
   "cell_type": "code",
   "execution_count": 51,
   "metadata": {},
   "outputs": [],
   "source": [
    "# 딕셔너리 = 사전형 데이터\n",
    "\n",
    "# {key1 : value1, key2 : value, ...}\n",
    "dict = {\n",
    "    \"name\" : \"test\",\n",
    "    \"age\" : 20,\n",
    "    \"phone\" : \"01012345678\"}"
   ]
  },
  {
   "cell_type": "code",
   "execution_count": 52,
   "metadata": {},
   "outputs": [
    {
     "name": "stdout",
     "output_type": "stream",
     "text": [
      "test\n"
     ]
    }
   ],
   "source": [
    "print(dict[\"name\"])"
   ]
  },
  {
   "cell_type": "code",
   "execution_count": 53,
   "metadata": {},
   "outputs": [],
   "source": [
    "# 새로운 key : value를 대입\n",
    "dict['area'] = \"seoul\""
   ]
  },
  {
   "cell_type": "code",
   "execution_count": 54,
   "metadata": {},
   "outputs": [
    {
     "name": "stdout",
     "output_type": "stream",
     "text": [
      "{'name': 'test', 'age': 20, 'phone': '01012345678', 'area': 'seoul'}\n"
     ]
    }
   ],
   "source": [
    "print(dict)"
   ]
  },
  {
   "cell_type": "code",
   "execution_count": 66,
   "metadata": {},
   "outputs": [],
   "source": [
    "# database에서 데이터를 받아올 때 데이터의 형태\n",
    "# [{},{},{}]\n",
    "\n",
    "test_data = [\n",
    "    {\n",
    "        \"name\" : \"test1\",\n",
    "        \"age\" : 20\n",
    "    },\n",
    "    {\n",
    "        \"name\" : \"test2\",\n",
    "        \"age\" : 30\n",
    "    },\n",
    "    {\n",
    "        \"name\" : \"test3\",\n",
    "        \"age\" : 40\n",
    "    }\n",
    "]"
   ]
  },
  {
   "cell_type": "code",
   "execution_count": 68,
   "metadata": {},
   "outputs": [
    {
     "name": "stdout",
     "output_type": "stream",
     "text": [
      "{'name': 'test1', 'age': 20}\n"
     ]
    }
   ],
   "source": [
    "print(test_data[0])"
   ]
  },
  {
   "cell_type": "code",
   "execution_count": 70,
   "metadata": {},
   "outputs": [
    {
     "name": "stdout",
     "output_type": "stream",
     "text": [
      "test1\n"
     ]
    }
   ],
   "source": [
    "print(test_data[0]['name'])"
   ]
  },
  {
   "cell_type": "code",
   "execution_count": 74,
   "metadata": {},
   "outputs": [
    {
     "name": "stdout",
     "output_type": "stream",
     "text": [
      "['test1', 'test2', 'test3']\n"
     ]
    }
   ],
   "source": [
    "# test_data에서 name의 값들만 리스트 형태로 출력\n",
    "\n",
    "name_list = []\n",
    "\n",
    "for i in test_data:\n",
    "    name_list.append(i[\"name\"])\n",
    "\n",
    "print(name_list)"
   ]
  },
  {
   "cell_type": "code",
   "execution_count": 73,
   "metadata": {},
   "outputs": [
    {
     "name": "stdout",
     "output_type": "stream",
     "text": [
      "['test1', 'test2', 'test3']\n"
     ]
    }
   ],
   "source": [
    "name_list = []\n",
    "\n",
    "for i in range(0,len(test_data),1):\n",
    "    name_list.append(test_data[i]['name'])\n",
    "\n",
    "print(name_list)\n"
   ]
  },
  {
   "cell_type": "code",
   "execution_count": 75,
   "metadata": {},
   "outputs": [
    {
     "name": "stdout",
     "output_type": "stream",
     "text": [
      "HELLO WORLD\n",
      "hello world\n"
     ]
    }
   ],
   "source": [
    "# 문자열 내장 함수\n",
    "# 대문자, 소문자 변환\n",
    "# upper(), lower()\n",
    "text = \"Hello World\"\n",
    "print(text.upper())\n",
    "print(text.lower())\n"
   ]
  },
  {
   "cell_type": "code",
   "execution_count": 81,
   "metadata": {},
   "outputs": [
    {
     "name": "stdout",
     "output_type": "stream",
     "text": [
      "   Hello world  \n"
     ]
    }
   ],
   "source": [
    "text = \"   Hello world  \"\n",
    "print(text)\n"
   ]
  },
  {
   "cell_type": "code",
   "execution_count": 82,
   "metadata": {},
   "outputs": [
    {
     "name": "stdout",
     "output_type": "stream",
     "text": [
      "Hello world  \n",
      "   Hello world\n",
      "Hello world\n"
     ]
    }
   ],
   "source": [
    "# 공백 제거 함수\n",
    "# strip() : 양쪽 공백 제거\n",
    "# lstrip() : 왼쪽 공백 제거\n",
    "# rstrip() : 오른쪽 공백 제거\n",
    "\n",
    "print(text.lstrip())\n",
    "print(text.rstrip())\n",
    "print(text.strip())"
   ]
  },
  {
   "cell_type": "code",
   "execution_count": 83,
   "metadata": {},
   "outputs": [
    {
     "data": {
      "text/plain": [
       "'Helloworld'"
      ]
     },
     "execution_count": 83,
     "metadata": {},
     "output_type": "execute_result"
    }
   ],
   "source": [
    "# replace()\n",
    "# 선택한 문자열 변경\n",
    "# 공백 제거에도 사용 가능\n",
    "\n",
    "text.replace(\" \", \"\")\n"
   ]
  },
  {
   "cell_type": "code",
   "execution_count": 84,
   "metadata": {},
   "outputs": [
    {
     "data": {
      "text/plain": [
       "'   Hi world  '"
      ]
     },
     "execution_count": 84,
     "metadata": {},
     "output_type": "execute_result"
    }
   ],
   "source": [
    "text.replace(\"Hello\", \"Hi\")"
   ]
  },
  {
   "cell_type": "code",
   "execution_count": 85,
   "metadata": {},
   "outputs": [
    {
     "name": "stdout",
     "output_type": "stream",
     "text": [
      "a,b,c,d,e\n"
     ]
    }
   ],
   "source": [
    "# split()\n",
    "# 기준이 되는 문자열 또는 , . / 와 같은 특수문자열을 기준으로 문자열을 나눠주는 역할\n",
    "a = \"a,b,c,d,e\"\n",
    "print(a)"
   ]
  },
  {
   "cell_type": "code",
   "execution_count": 86,
   "metadata": {},
   "outputs": [
    {
     "data": {
      "text/plain": [
       "['a', 'b', 'c', 'd', 'e']"
      ]
     },
     "execution_count": 86,
     "metadata": {},
     "output_type": "execute_result"
    }
   ],
   "source": [
    "a.split(\",\")"
   ]
  },
  {
   "cell_type": "code",
   "execution_count": 94,
   "metadata": {},
   "outputs": [],
   "source": [
    "# 함수\n",
    "def func_1():\n",
    "    return \"Hello World\""
   ]
  },
  {
   "cell_type": "code",
   "execution_count": 95,
   "metadata": {},
   "outputs": [
    {
     "name": "stdout",
     "output_type": "stream",
     "text": [
      "Hello World\n",
      "Hello World\n",
      "Hello World\n"
     ]
    }
   ],
   "source": [
    "print(func_1())\n",
    "print(func_1())\n",
    "print(func_1())"
   ]
  },
  {
   "cell_type": "code",
   "execution_count": 96,
   "metadata": {},
   "outputs": [],
   "source": [
    "# 매개변수가 존재하는 함수 생성\n",
    "def func_2(x,y):\n",
    "    result = x+y\n",
    "    return result"
   ]
  },
  {
   "cell_type": "code",
   "execution_count": 101,
   "metadata": {},
   "outputs": [
    {
     "name": "stdout",
     "output_type": "stream",
     "text": [
      "8\n",
      "4\n",
      "14\n"
     ]
    }
   ],
   "source": [
    "print(func_2(5, 3))\n",
    "print(func_2(1, 3))\n",
    "print(func_2(10, 4))"
   ]
  },
  {
   "cell_type": "code",
   "execution_count": 102,
   "metadata": {},
   "outputs": [
    {
     "ename": "TypeError",
     "evalue": "func_2() missing 1 required positional argument: 'y'",
     "output_type": "error",
     "traceback": [
      "\u001b[1;31m---------------------------------------------------------------------------\u001b[0m",
      "\u001b[1;31mTypeError\u001b[0m                                 Traceback (most recent call last)",
      "Cell \u001b[1;32mIn[102], line 1\u001b[0m\n\u001b[1;32m----> 1\u001b[0m (func_2(\u001b[39m5\u001b[39;49m))\n",
      "\u001b[1;31mTypeError\u001b[0m: func_2() missing 1 required positional argument: 'y'"
     ]
    }
   ],
   "source": [
    "(func_2(5))"
   ]
  },
  {
   "cell_type": "code",
   "execution_count": 103,
   "metadata": {},
   "outputs": [
    {
     "name": "stdout",
     "output_type": "stream",
     "text": [
      "6\n",
      "6\n"
     ]
    }
   ],
   "source": [
    "# 매개변수의 기본 값 정의\n",
    "def func_3(x,y=3):\n",
    "    result = x+y\n",
    "    return result\n",
    "\n",
    "print(func_3(5,1))\n",
    "print(func_3(3))"
   ]
  },
  {
   "cell_type": "code",
   "execution_count": 106,
   "metadata": {},
   "outputs": [
    {
     "name": "stdout",
     "output_type": "stream",
     "text": [
      "25\n",
      "32\n"
     ]
    }
   ],
   "source": [
    "def func_4(x,y):\n",
    "    result = x**y\n",
    "    return result\n",
    "\n",
    "print(func_4(5,2))\n",
    "print(func_4(y=5,x=2))"
   ]
  },
  {
   "cell_type": "code",
   "execution_count": null,
   "metadata": {},
   "outputs": [],
   "source": []
  },
  {
   "attachments": {},
   "cell_type": "markdown",
   "metadata": {},
   "source": [
    "1. 함수를 하나 생성 매개변수 2개 (x,y)\n",
    "2. 함수가 하는 행동 (x부터 y까지의 합을 리턴) - for/while문\n",
    "3. x보다 y가 작은 경우에는 x부터 y까지의 합, 반대인 경우에는 y부터 x까지의 합"
   ]
  },
  {
   "cell_type": "code",
   "execution_count": 127,
   "metadata": {},
   "outputs": [
    {
     "name": "stdout",
     "output_type": "stream",
     "text": [
      "55\n",
      "0\n"
     ]
    }
   ],
   "source": [
    "def func_0(x,y):\n",
    "    f_sum = 0\n",
    "    for i in range(x,y+1,1):\n",
    "        f_sum += i\n",
    "    return f_sum\n",
    "\n",
    "\n",
    "print(func_0(1,10))\n",
    "print(func_0(10,1))\n",
    "\n"
   ]
  },
  {
   "cell_type": "code",
   "execution_count": 128,
   "metadata": {},
   "outputs": [
    {
     "name": "stdout",
     "output_type": "stream",
     "text": [
      "55\n"
     ]
    }
   ],
   "source": [
    "def func_6(x,y):\n",
    "    f_sum = 0\n",
    "    while x <= y :\n",
    "        f_sum += x\n",
    "        x += 1\n",
    "    return f_sum\n",
    "print(func_6(1,10))"
   ]
  },
  {
   "cell_type": "code",
   "execution_count": 129,
   "metadata": {},
   "outputs": [
    {
     "name": "stdout",
     "output_type": "stream",
     "text": [
      "55\n",
      "55\n"
     ]
    }
   ],
   "source": [
    "def func_7(x,y):\n",
    "    f_sum = 0\n",
    "    # x가 y 보다 작은 경우\n",
    "    if x < y :\n",
    "        for i in range (x, y+1, 1):\n",
    "            f_sum += i\n",
    "    else:\n",
    "        for i in range (y, x+1,1):\n",
    "            f_sum += i\n",
    "    return f_sum\n",
    "su\n",
    "print(func_7(1,10))\n",
    "print(func_7(1,10))\n"
   ]
  },
  {
   "cell_type": "code",
   "execution_count": 133,
   "metadata": {},
   "outputs": [
    {
     "name": "stdout",
     "output_type": "stream",
     "text": [
      "55\n",
      "55\n"
     ]
    }
   ],
   "source": [
    "def func_8(x,y):\n",
    "    f_sum = 0\n",
    "    for i in range(min(x,y),max(x,y)+1,1):\n",
    "        f_sum += i\n",
    "    return f_sum\n",
    "\n",
    "print(func_8(1,10))\n",
    "print(func_8(10, 1))"
   ]
  },
  {
   "cell_type": "code",
   "execution_count": null,
   "metadata": {},
   "outputs": [],
   "source": []
  },
  {
   "attachments": {},
   "cell_type": "markdown",
   "metadata": {},
   "source": [
    "1. 함수 생성 매개변수 3개 x,y,z\n",
    "2. z값이 '합' (문자열) x+y 리턴\n",
    "3. z값이 '차' (문자열) x-y 리턴\n",
    "4. z값이 둘다 아니면 '연산식이 잘못되었습니다' 리턴"
   ]
  },
  {
   "cell_type": "code",
   "execution_count": 140,
   "metadata": {},
   "outputs": [
    {
     "name": "stdout",
     "output_type": "stream",
     "text": [
      "4\n",
      "-2\n",
      "연산식이 잘못되었습니다\n"
     ]
    }
   ],
   "source": [
    "def func_5 (x,y,z):\n",
    "    if z =='합':\n",
    "        return x+y\n",
    "    elif z == '차':\n",
    "        return x-y\n",
    "    else:\n",
    "        return \"연산식이 잘못되었습니다\"\n",
    "\n",
    "\n",
    "print(func_5(1,3,'합'))\n",
    "print(func_5(1,3,'차'))\n",
    "print(func_5(1,3,'곱'))\n"
   ]
  },
  {
   "cell_type": "code",
   "execution_count": 142,
   "metadata": {},
   "outputs": [
    {
     "name": "stdout",
     "output_type": "stream",
     "text": [
      "4\n",
      "-2\n",
      "연산식이 잘못되었습니다\n"
     ]
    }
   ],
   "source": [
    "def func_10(x,y,z):\n",
    "    if z == \"합\":\n",
    "        result = x+y\n",
    "    elif z=='차':\n",
    "        result = x-y\n",
    "    else :\n",
    "        result = '연산식이 잘 못 되었습니다'\n",
    "        return result\n",
    "\n",
    "print(func_10(1,3,'합'))\n",
    "print(func_10(1,3,'차'))\n",
    "print(func_10(1,3,'곱'))\n"
   ]
  },
  {
   "cell_type": "code",
   "execution_count": 143,
   "metadata": {},
   "outputs": [
    {
     "name": "stdout",
     "output_type": "stream",
     "text": [
      "[1, 4, 9, 16]\n"
     ]
    }
   ],
   "source": [
    "def func_11(x):\n",
    "    result = x**2\n",
    "    return result\n",
    "\n",
    "l = [1,2,3,4]\n",
    "\n",
    "result = []\n",
    "\n",
    "for i in l:\n",
    "    result.append(func_11(i))\n",
    "print(result)"
   ]
  },
  {
   "cell_type": "code",
   "execution_count": 145,
   "metadata": {},
   "outputs": [
    {
     "name": "stdout",
     "output_type": "stream",
     "text": [
      "[1, 4, 9, 16]\n"
     ]
    }
   ],
   "source": [
    "# map 함수\n",
    "\n",
    "result_2 = list(map(func_11, l))\n",
    "print(result)"
   ]
  },
  {
   "cell_type": "code",
   "execution_count": 146,
   "metadata": {},
   "outputs": [
    {
     "name": "stdout",
     "output_type": "stream",
     "text": [
      "16\n"
     ]
    }
   ],
   "source": [
    "# 람다 함수\n",
    "lamb = lambda x: x**2\n",
    "print(lamb(4))"
   ]
  },
  {
   "cell_type": "code",
   "execution_count": 147,
   "metadata": {},
   "outputs": [
    {
     "data": {
      "text/plain": [
       "[1, 4, 9, 16]"
      ]
     },
     "execution_count": 147,
     "metadata": {},
     "output_type": "execute_result"
    }
   ],
   "source": [
    "list(map(lamb, l))"
   ]
  },
  {
   "cell_type": "code",
   "execution_count": 1,
   "metadata": {},
   "outputs": [
    {
     "name": "stdout",
     "output_type": "stream",
     "text": [
      "[1, 4, 9, 16]\n"
     ]
    }
   ],
   "source": [
    "def func_11(x):\n",
    "    result = x**2\n",
    "    return result\n",
    "\n",
    "l = [1,2,3,4]\n",
    "\n",
    "result = []\n",
    "\n",
    "for i in l:\n",
    "    result.append(func_11(i))\n",
    "print(result)"
   ]
  },
  {
   "cell_type": "code",
   "execution_count": null,
   "metadata": {},
   "outputs": [],
   "source": []
  },
  {
   "attachments": {},
   "cell_type": "markdown",
   "metadata": {},
   "source": [
    "함수\n",
    "1. 함수 생성 - def 키워드를 이용해서 생성\n",
    "2. 매개변수 0개부터 생성"
   ]
  },
  {
   "cell_type": "code",
   "execution_count": 1,
   "metadata": {},
   "outputs": [
    {
     "name": "stdout",
     "output_type": "stream",
     "text": [
      "1 2 3 4\n",
      "4 3 2 1\n"
     ]
    }
   ],
   "source": [
    "#함수 생성\n",
    "def func_1(a,b,c,d):\n",
    "    print(a,b,c,d)\n",
    "\n",
    "#함수 호출 (매개변수의 개수와 인자의 개수를 동일하게)\n",
    "func_1(1,2,3,4)\n",
    "func_1(4,3,2,1)"
   ]
  },
  {
   "cell_type": "code",
   "execution_count": 2,
   "metadata": {},
   "outputs": [
    {
     "name": "stdout",
     "output_type": "stream",
     "text": [
      "1 2 3 4\n",
      "1 2 5 6\n"
     ]
    }
   ],
   "source": [
    "#매개변수에 기본값 지정하여 함수 생성\n",
    "\n",
    "def func_1(a,b,c=3,d=4):\n",
    "    print(a,b,c,d)\n",
    "\n",
    "#함수 호출 \n",
    "func_1(1,2)\n",
    "func_1(1,2,5,6)"
   ]
  },
  {
   "cell_type": "code",
   "execution_count": null,
   "metadata": {},
   "outputs": [],
   "source": []
  }
 ],
 "metadata": {
  "kernelspec": {
   "display_name": "Python 3",
   "language": "python",
   "name": "python3"
  },
  "language_info": {
   "codemirror_mode": {
    "name": "ipython",
    "version": 3
   },
   "file_extension": ".py",
   "mimetype": "text/x-python",
   "name": "python",
   "nbconvert_exporter": "python",
   "pygments_lexer": "ipython3",
   "version": "3.11.1"
  },
  "orig_nbformat": 4,
  "vscode": {
   "interpreter": {
    "hash": "c261aea317cc0286b3b3261fbba9abdec21eaa57589985bb7a274bf54d6cc0a7"
   }
  }
 },
 "nbformat": 4,
 "nbformat_minor": 2
}
