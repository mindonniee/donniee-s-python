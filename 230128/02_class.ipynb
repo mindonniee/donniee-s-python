{
 "cells": [
  {
   "cell_type": "code",
   "execution_count": 10,
   "metadata": {},
   "outputs": [],
   "source": [
    "## 클래스를 선언\n",
    "class Class_1():\n",
    "    def func_1(self):\n",
    "        print(\"class_1 Call\")\n"
   ]
  },
  {
   "cell_type": "code",
   "execution_count": 11,
   "metadata": {},
   "outputs": [
    {
     "name": "stdout",
     "output_type": "stream",
     "text": [
      "<__main__.Class_1 object at 0x000002A0CF0FB910>\n"
     ]
    }
   ],
   "source": [
    "## 클래스 생성\n",
    "a = Class_1()\n",
    "print(a)"
   ]
  },
  {
   "cell_type": "code",
   "execution_count": 13,
   "metadata": {},
   "outputs": [
    {
     "name": "stdout",
     "output_type": "stream",
     "text": [
      "class_1 Call\n"
     ]
    }
   ],
   "source": [
    "a.func_1()"
   ]
  },
  {
   "cell_type": "code",
   "execution_count": 20,
   "metadata": {},
   "outputs": [],
   "source": [
    "#클래스를 선언\n",
    "# 생성자 함수를 입력\n",
    "class Class_2():\n",
    "    def __init__(self,input_a, input_b):\n",
    "        self.a = input_a\n",
    "        self.b = input_b"
   ]
  },
  {
   "cell_type": "code",
   "execution_count": 21,
   "metadata": {},
   "outputs": [],
   "source": [
    "b = Class_2(5,1)"
   ]
  },
  {
   "cell_type": "code",
   "execution_count": 22,
   "metadata": {},
   "outputs": [],
   "source": [
    "c = Class_2('test', 'test2')"
   ]
  },
  {
   "cell_type": "code",
   "execution_count": 23,
   "metadata": {},
   "outputs": [
    {
     "name": "stdout",
     "output_type": "stream",
     "text": [
      "5\n",
      "test\n"
     ]
    }
   ],
   "source": [
    "print(b.a)\n",
    "print(c.a)"
   ]
  },
  {
   "cell_type": "code",
   "execution_count": 27,
   "metadata": {},
   "outputs": [],
   "source": [
    "class Class_3():\n",
    "    def __init__(self, input_x, input_y):\n",
    "        self.x = input_x\n",
    "        self.y = input_y\n",
    "    def add(self):\n",
    "        self.result = self.x + self.y\n",
    "        return self.result\n",
    "    def subtract(self):\n",
    "        self.result = self.x - self.y\n",
    "        return self.result"
   ]
  },
  {
   "cell_type": "code",
   "execution_count": 28,
   "metadata": {},
   "outputs": [],
   "source": [
    "class_a = Class_3(10,2)\n",
    "class_b = Class_3(50,10)"
   ]
  },
  {
   "cell_type": "code",
   "execution_count": 31,
   "metadata": {},
   "outputs": [
    {
     "name": "stdout",
     "output_type": "stream",
     "text": [
      "12\n",
      "60\n"
     ]
    }
   ],
   "source": [
    "print(class_a.add())\n",
    "print(class_b.add())"
   ]
  },
  {
   "cell_type": "code",
   "execution_count": 30,
   "metadata": {},
   "outputs": [
    {
     "name": "stdout",
     "output_type": "stream",
     "text": [
      "8\n",
      "40\n"
     ]
    }
   ],
   "source": [
    "print(class_a.subtract())\n",
    "print(class_b.subtract())"
   ]
  },
  {
   "cell_type": "code",
   "execution_count": 43,
   "metadata": {},
   "outputs": [],
   "source": [
    "class Class_4():\n",
    "    _list = []\n",
    "\n",
    "    def __init__(self,input_name):\n",
    "        self.name = input_name\n",
    "\n",
    "    \n",
    "    def add_list(self, input_phone):\n",
    "        self._list.append(input_phone)"
   ]
  },
  {
   "cell_type": "code",
   "execution_count": 44,
   "metadata": {},
   "outputs": [],
   "source": [
    "test = Class_4('test')\n",
    "test2 = Class_4('test_2')"
   ]
  },
  {
   "cell_type": "code",
   "execution_count": 51,
   "metadata": {},
   "outputs": [
    {
     "data": {
      "text/plain": [
       "['01012341234']"
      ]
     },
     "execution_count": 51,
     "metadata": {},
     "output_type": "execute_result"
    }
   ],
   "source": [
    "test._list"
   ]
  },
  {
   "cell_type": "code",
   "execution_count": 48,
   "metadata": {},
   "outputs": [],
   "source": [
    "test.add_list(\"01012341234\")"
   ]
  },
  {
   "cell_type": "code",
   "execution_count": 49,
   "metadata": {},
   "outputs": [
    {
     "name": "stdout",
     "output_type": "stream",
     "text": [
      "['01012341234']\n"
     ]
    }
   ],
   "source": [
    "print(test2._list)"
   ]
  },
  {
   "cell_type": "code",
   "execution_count": null,
   "metadata": {},
   "outputs": [],
   "source": []
  },
  {
   "cell_type": "code",
   "execution_count": null,
   "metadata": {},
   "outputs": [],
   "source": []
  }
 ],
 "metadata": {
  "kernelspec": {
   "display_name": "Python 3",
   "language": "python",
   "name": "python3"
  },
  "language_info": {
   "codemirror_mode": {
    "name": "ipython",
    "version": 3
   },
   "file_extension": ".py",
   "mimetype": "text/x-python",
   "name": "python",
   "nbconvert_exporter": "python",
   "pygments_lexer": "ipython3",
   "version": "3.11.1"
  },
  "orig_nbformat": 4,
  "vscode": {
   "interpreter": {
    "hash": "c261aea317cc0286b3b3261fbba9abdec21eaa57589985bb7a274bf54d6cc0a7"
   }
  }
 },
 "nbformat": 4,
 "nbformat_minor": 2
}
